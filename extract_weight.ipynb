{
 "metadata": {
  "language_info": {
   "codemirror_mode": {
    "name": "ipython",
    "version": 3
   },
   "file_extension": ".py",
   "mimetype": "text/x-python",
   "name": "python",
   "nbconvert_exporter": "python",
   "pygments_lexer": "ipython3",
   "version": "3.7.8-final"
  },
  "orig_nbformat": 2,
  "kernelspec": {
   "name": "adipose_train4",
   "display_name": "adipose_train4"
  }
 },
 "nbformat": 4,
 "nbformat_minor": 2,
 "cells": [
  {
   "cell_type": "code",
   "execution_count": 2,
   "metadata": {
    "tags": []
   },
   "outputs": [],
   "source": [
    "import tensorflow as tf\n",
    "from tensorflow import keras\n",
    "import json\n",
    "import numpy as np\n",
    "import os"
   ]
  },
  {
   "cell_type": "code",
   "execution_count": 3,
   "metadata": {
    "tags": []
   },
   "outputs": [
    {
     "output_type": "stream",
     "name": "stdout",
     "text": "/home/jaentrouble/adipose_train4\n"
    }
   ],
   "source": [
    "os.chdir('/home/jaentrouble/adipose_train4')\n",
    "print(os.getcwd())"
   ]
  },
  {
   "cell_type": "code",
   "execution_count": 4,
   "metadata": {},
   "outputs": [],
   "source": [
    "import model_trainer, adipose_models"
   ]
  },
  {
   "cell_type": "code",
   "execution_count": 5,
   "metadata": {},
   "outputs": [],
   "source": [
    "model_f = adipose_models.hr_5_3_0\n",
    "savedfile_name = 'hr_5_3_0_he'\n",
    "target_epoch = 150"
   ]
  },
  {
   "cell_type": "code",
   "execution_count": 6,
   "metadata": {
    "tags": []
   },
   "outputs": [
    {
     "output_type": "stream",
     "name": "stdout",
     "text": "Model: \"functional_1\"\n__________________________________________________________________________________________________\nLayer (type)                    Output Shape         Param #     Connected to                     \n==================================================================================================\ninput_1 (InputLayer)            [(None, 200, 200, 3) 0                                            \n__________________________________________________________________________________________________\nHR_0 (HighResolutionModule)     [(None, 200, 200, 8) 3760        input_1[0][0]                    \n__________________________________________________________________________________________________\nHR_1 (HighResolutionModule)     [(None, 200, 200, 8) 19336       HR_0[0][0]                       \n__________________________________________________________________________________________________\nHR_2 (HighResolutionModule)     [(None, 200, 200, 8) 93088       HR_1[0][0]                       \n                                                                 HR_1[0][1]                       \n__________________________________________________________________________________________________\nHR_3 (HighResolutionModule)     [(None, 200, 200, 8) 468408      HR_2[0][0]                       \n                                                                 HR_2[0][1]                       \n                                                                 HR_2[0][2]                       \n__________________________________________________________________________________________________\nHR_4 (HighResolutionModule)     [(None, 200, 200, 8) 530448      HR_3[0][0]                       \n                                                                 HR_3[0][1]                       \n                                                                 HR_3[0][2]                       \n                                                                 HR_3[0][3]                       \n__________________________________________________________________________________________________\nFusion_0 (HighResolutionFusion) [(None, 200, 200, 8) 37600       HR_4[0][0]                       \n                                                                 HR_4[0][1]                       \n                                                                 HR_4[0][2]                       \n                                                                 HR_4[0][3]                       \n__________________________________________________________________________________________________\nFinal_conv (Conv2D)             (None, 200, 200, 1)  9           Fusion_0[0][0]                   \n__________________________________________________________________________________________________\ntf_op_layer_Squeeze (TensorFlow [(None, 200, 200)]   0           Final_conv[0][0]                 \n__________________________________________________________________________________________________\nactivation (Activation)         (None, 200, 200)     0           tf_op_layer_Squeeze[0][0]        \n==================================================================================================\nTotal params: 1,152,649\nTrainable params: 1,145,721\nNon-trainable params: 6,928\n__________________________________________________________________________________________________\n"
    },
    {
     "output_type": "execute_result",
     "data": {
      "text/plain": "<tensorflow.python.training.tracking.util.CheckpointLoadStatus at 0x7fcf347cca50>"
     },
     "metadata": {},
     "execution_count": 6
    }
   ],
   "source": [
    "dummy_model = model_trainer.get_model(model_f)\n",
    "dummy_model.load_weights('savedmodels/'+savedfile_name+'/'+str(target_epoch))"
   ]
  },
  {
   "cell_type": "code",
   "execution_count": 8,
   "metadata": {},
   "outputs": [],
   "source": [
    "w = dummy_model.get_weights()"
   ]
  },
  {
   "cell_type": "code",
   "execution_count": 10,
   "metadata": {},
   "outputs": [],
   "source": [
    "w_in_list = [wl.tolist() for wl in w]"
   ]
  },
  {
   "cell_type": "code",
   "execution_count": 12,
   "metadata": {},
   "outputs": [],
   "source": [
    "with open('h_5_3_0_he_weights.json','w') as f:\n",
    "    json.dump(w_in_list, f)"
   ]
  },
  {
   "cell_type": "code",
   "execution_count": null,
   "metadata": {},
   "outputs": [],
   "source": []
  }
 ]
}